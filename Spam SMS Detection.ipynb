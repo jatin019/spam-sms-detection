{
 "cells": [
  {
   "cell_type": "code",
   "execution_count": 2,
   "id": "80e78c91",
   "metadata": {},
   "outputs": [],
   "source": [
    "import pandas as pd\n",
    "import numpy as np\n",
    "import re\n",
    "import string\n",
    "import nltk\n",
    "import seaborn as sns\n",
    "import matplotlib.pyplot as plt\n",
    "from nltk.corpus import stopwords\n",
    "from sklearn.feature_extraction.text import TfidfVectorizer\n",
    "from sklearn.model_selection import train_test_split\n",
    "from sklearn.ensemble import RandomForestClassifier\n",
    "from sklearn.linear_model import LogisticRegression\n",
    "from sklearn.naive_bayes import MultinomialNB\n",
    "from sklearn.svm import SVC\n",
    "from sklearn.metrics import accuracy_score, precision_score, recall_score, f1_score, confusion_matrix, classification_report"
   ]
  },
  {
   "cell_type": "code",
   "execution_count": 3,
   "id": "4942325c",
   "metadata": {},
   "outputs": [
    {
     "name": "stderr",
     "output_type": "stream",
     "text": [
      "[nltk_data] Downloading package stopwords to\n",
      "[nltk_data]     C:\\Users\\Jatin\\AppData\\Roaming\\nltk_data...\n",
      "[nltk_data]   Package stopwords is already up-to-date!\n"
     ]
    },
    {
     "data": {
      "text/plain": [
       "True"
      ]
     },
     "execution_count": 3,
     "metadata": {},
     "output_type": "execute_result"
    }
   ],
   "source": [
    "# Ensure stopwords are downloaded\n",
    "nltk.download('stopwords')\n"
   ]
  },
  {
   "cell_type": "code",
   "execution_count": 5,
   "id": "33816ab1",
   "metadata": {},
   "outputs": [],
   "source": [
    "# Load dataset\n",
    "df = pd.read_csv(\"Dataset/spam.csv\", encoding='latin-1')"
   ]
  },
  {
   "cell_type": "code",
   "execution_count": 6,
   "id": "ffc5fd34",
   "metadata": {},
   "outputs": [],
   "source": [
    "# Rename columns for clarity\n",
    "df = df.rename(columns={'v1': 'label', 'v2': 'message'})\n",
    "df = df[['label', 'message']]"
   ]
  },
  {
   "cell_type": "code",
   "execution_count": 7,
   "id": "2e5ff068",
   "metadata": {},
   "outputs": [],
   "source": [
    "# Convert labels to binary (ham = 0, spam = 1)\n",
    "df['label'] = df['label'].map({'ham': 0, 'spam': 1}) \n",
    "df['message'] = df['message'].fillna(\"\")"
   ]
  },
  {
   "cell_type": "code",
   "execution_count": 8,
   "id": "b80f42c3",
   "metadata": {},
   "outputs": [
    {
     "name": "stdout",
     "output_type": "stream",
     "text": [
      "label\n",
      "0    4825\n",
      "1     747\n",
      "Name: count, dtype: int64\n"
     ]
    }
   ],
   "source": [
    "print(df['label'].value_counts())"
   ]
  },
  {
   "cell_type": "code",
   "execution_count": 38,
   "id": "4f2139a3",
   "metadata": {},
   "outputs": [
    {
     "name": "stdout",
     "output_type": "stream",
     "text": [
      "label              0\n",
      "message            0\n",
      "cleaned_message    0\n",
      "dtype: int64\n"
     ]
    }
   ],
   "source": [
    "print(df.isnull().sum())\n"
   ]
  },
  {
   "cell_type": "code",
   "execution_count": 9,
   "id": "d89dfd45",
   "metadata": {},
   "outputs": [],
   "source": [
    "# Text Preprocessing function\n",
    "def preprocess_text(text):\n",
    "    text = text.lower()\n",
    "    text = re.sub(f\"[{string.punctuation}]\", \"\", text)  # Remove punctuation\n",
    "    words = text.split()\n",
    "    stop_words = set(stopwords.words('english'))\n",
    "    words = [word for word in words if word not in stop_words]\n",
    "    return \" \".join(words) if words else \"emptytext\"\n"
   ]
  },
  {
   "cell_type": "code",
   "execution_count": 39,
   "id": "29fcec35",
   "metadata": {},
   "outputs": [],
   "source": [
    "# Apply text preprocessing\n",
    "df['cleaned_message'] = df['message'].apply(preprocess_text)"
   ]
  },
  {
   "cell_type": "code",
   "execution_count": 40,
   "id": "3cbb1067",
   "metadata": {},
   "outputs": [
    {
     "name": "stdout",
     "output_type": "stream",
     "text": [
      "                                              message  \\\n",
      "0   Go until jurong point, crazy.. Available only ...   \n",
      "1                       Ok lar... Joking wif u oni...   \n",
      "2   Free entry in 2 a wkly comp to win FA Cup fina...   \n",
      "3   U dun say so early hor... U c already then say...   \n",
      "4   Nah I don't think he goes to usf, he lives aro...   \n",
      "5   FreeMsg Hey there darling it's been 3 week's n...   \n",
      "6   Even my brother is not like to speak with me. ...   \n",
      "7   As per your request 'Melle Melle (Oru Minnamin...   \n",
      "8   WINNER!! As a valued network customer you have...   \n",
      "9   Had your mobile 11 months or more? U R entitle...   \n",
      "10  I'm gonna be home soon and i don't want to tal...   \n",
      "11  SIX chances to win CASH! From 100 to 20,000 po...   \n",
      "12  URGENT! You have won a 1 week FREE membership ...   \n",
      "13  I've been searching for the right words to tha...   \n",
      "14                I HAVE A DATE ON SUNDAY WITH WILL!!   \n",
      "15  XXXMobileMovieClub: To use your credit, click ...   \n",
      "16                         Oh k...i'm watching here:)   \n",
      "17  Eh u remember how 2 spell his name... Yes i di...   \n",
      "18  Fine if thatåÕs the way u feel. ThatåÕs the wa...   \n",
      "19  England v Macedonia - dont miss the goals/team...   \n",
      "\n",
      "                                      cleaned_message  \n",
      "0   go jurong point crazy available bugis n great ...  \n",
      "1                             ok lar joking wif u oni  \n",
      "2   free entry 2 wkly comp win fa cup final tkts 2...  \n",
      "3                 u dun say early hor u c already say  \n",
      "4         nah dont think goes usf lives around though  \n",
      "5   freemsg hey darling 3 weeks word back id like ...  \n",
      "6      even brother like speak treat like aids patent  \n",
      "7   per request melle melle oru minnaminunginte nu...  \n",
      "8   winner valued network customer selected receiv...  \n",
      "9   mobile 11 months u r entitled update latest co...  \n",
      "10  im gonna home soon dont want talk stuff anymor...  \n",
      "11  six chances win cash 100 20000 pounds txt csh1...  \n",
      "12  urgent 1 week free membership å£100000 prize j...  \n",
      "13  ive searching right words thank breather promi...  \n",
      "14                                        date sunday  \n",
      "15  xxxmobilemovieclub use credit click wap link n...  \n",
      "16                                    oh kim watching  \n",
      "17  eh u remember 2 spell name yes v naughty make ...  \n",
      "18         fine thatåõs way u feel thatåõs way gota b  \n",
      "19  england v macedonia dont miss goalsteam news t...  \n"
     ]
    }
   ],
   "source": [
    "print(df[['message','cleaned_message']].head(20))"
   ]
  },
  {
   "cell_type": "code",
   "execution_count": 41,
   "id": "b9f3032b",
   "metadata": {},
   "outputs": [
    {
     "name": "stdout",
     "output_type": "stream",
     "text": [
      "label              0\n",
      "message            0\n",
      "cleaned_message    0\n",
      "dtype: int64\n"
     ]
    }
   ],
   "source": [
    "print(df.isnull().sum())\n"
   ]
  },
  {
   "cell_type": "code",
   "execution_count": 11,
   "id": "274412f5",
   "metadata": {},
   "outputs": [],
   "source": [
    "# Vectorization using TF-IDF\n",
    "vectorizer = TfidfVectorizer()\n",
    "X = vectorizer.fit_transform(df['cleaned_message'])\n",
    "y = df['label']\n"
   ]
  },
  {
   "cell_type": "code",
   "execution_count": 12,
   "id": "a8d17227",
   "metadata": {},
   "outputs": [],
   "source": [
    "# Split dataset into train and test sets\n",
    "X_train, X_test, y_train, y_test = train_test_split(X, y, test_size=0.2, random_state=42)"
   ]
  },
  {
   "cell_type": "code",
   "execution_count": 13,
   "id": "0f3fbc0f",
   "metadata": {},
   "outputs": [],
   "source": [
    "# Define models\n",
    "models = {\n",
    "    \"Random Forest\": RandomForestClassifier(n_estimators=100, random_state=42),\n",
    "    \"Logistic Regression\": LogisticRegression(max_iter=1000),\n",
    "    \"Naïve Bayes\": MultinomialNB(),\n",
    "    \"SVM\": SVC(kernel='linear', probability=True)\n",
    "}"
   ]
  },
  {
   "cell_type": "code",
   "execution_count": 14,
   "id": "99e62fc0",
   "metadata": {},
   "outputs": [],
   "source": [
    "# Train and evaluate models\n",
    "results = {}\n",
    "for model_name, model in models.items():\n",
    "    model.fit(X_train, y_train)\n",
    "    y_pred = model.predict(X_test)\n",
    "    \n",
    "    # Calculate performance metrics\n",
    "    accuracy = accuracy_score(y_test, y_pred)\n",
    "    precision = precision_score(y_test, y_pred)\n",
    "    recall = recall_score(y_test, y_pred)\n",
    "    f1 = f1_score(y_test, y_pred)\n",
    "    \n",
    "    results[model_name] = {\n",
    "        \"Accuracy\": accuracy,\n",
    "        \"Precision\": precision,\n",
    "        \"Recall\": recall,\n",
    "        \"F1-score\": f1\n",
    "    }"
   ]
  },
  {
   "cell_type": "code",
   "execution_count": 15,
   "id": "0ce4abcc",
   "metadata": {},
   "outputs": [
    {
     "name": "stdout",
     "output_type": "stream",
     "text": [
      "Best Model: SVM\n",
      "                     Accuracy  Precision    Recall  F1-score\n",
      "Random Forest        0.972197   1.000000  0.793333  0.884758\n",
      "Logistic Regression  0.942601   0.957447  0.600000  0.737705\n",
      "Naïve Bayes          0.965919   1.000000  0.746667  0.854962\n",
      "SVM                  0.975785   0.984252  0.833333  0.902527\n"
     ]
    }
   ],
   "source": [
    "# Convert results to DataFrame\n",
    "results_df = pd.DataFrame(results).T\n",
    "\n",
    "# Select the best model based on F1-score\n",
    "best_model_name = results_df['F1-score'].idxmax()\n",
    "best_model = models[best_model_name]\n",
    "\n",
    "# Print best model\n",
    "print(f\"Best Model: {best_model_name}\")\n",
    "print(results_df)\n"
   ]
  },
  {
   "cell_type": "code",
   "execution_count": 21,
   "id": "22aeeef2",
   "metadata": {},
   "outputs": [
    {
     "name": "stdout",
     "output_type": "stream",
     "text": [
      "\n",
      "Classification Report for Best Model:\n",
      "              precision    recall  f1-score   support\n",
      "\n",
      "           0       0.97      1.00      0.99       965\n",
      "           1       0.98      0.83      0.90       150\n",
      "\n",
      "    accuracy                           0.98      1115\n",
      "   macro avg       0.98      0.92      0.94      1115\n",
      "weighted avg       0.98      0.98      0.97      1115\n",
      "\n"
     ]
    }
   ],
   "source": [
    "# Evaluate the best model on test data\n",
    "y_pred_best = best_model.predict(X_test)\n",
    "print(\"\\nClassification Report for Best Model:\")\n",
    "print(classification_report(y_test, y_pred_best))\n"
   ]
  },
  {
   "cell_type": "code",
   "execution_count": 26,
   "id": "585657d0",
   "metadata": {},
   "outputs": [
    {
     "data": {
      "image/png": "[encoded data removed]",
      "text/plain": [
       "<Figure size 600x600 with 2 Axes>"
      ]
     },
     "metadata": {},
     "output_type": "display_data"
    }
   ],
   "source": [
    " \n",
    "cm = confusion_matrix(y_test, y_pred_best)\n",
    "plt.figure(figsize=(6, 6))\n",
    "sns.heatmap(cm, annot=True, fmt='d', cmap='Purples', xticklabels=['Ham', 'Spam'], yticklabels=['Ham', 'Spam'])\n",
    "plt.xlabel('Predicted')\n",
    "plt.ylabel('Actual')\n",
    "plt.title('Confusion Matrix')\n",
    "plt.show()\n"
   ]
  },
  {
   "cell_type": "code",
   "execution_count": 27,
   "id": "6df2ed3d",
   "metadata": {},
   "outputs": [
    {
     "name": "stdout",
     "output_type": "stream",
     "text": [
      "\n",
      "Test Predictions:\n",
      "['Spam', 'Ham']\n"
     ]
    }
   ],
   "source": [
    "# Function to test new messages\n",
    "def predict_message(model, messages):\n",
    "    messages = [preprocess_text(msg) for msg in messages]\n",
    "    vectors = vectorizer.transform(messages)\n",
    "    predictions = model.predict(vectors)\n",
    "    return [\"Spam\" if pred == 1 else \"Ham\" for pred in predictions]\n",
    "\n",
    "# Test with new messages\n",
    "test_messages = [\n",
    "    \"Congratulations! You have won a free lottery. Claim your prize now!\",\n",
    "    \"Hey, are we still meeting for lunch today?\"\n",
    "]\n",
    "print(\"\\nTest Predictions:\")\n",
    "print(predict_message(best_model, test_messages))\n"
   ]
  },
  {
   "cell_type": "code",
   "execution_count": 29,
   "id": "79bdfda5",
   "metadata": {},
   "outputs": [
    {
     "name": "stdout",
     "output_type": "stream",
     "text": [
      "\n",
      "Test Predictions:\n",
      "['Spam', 'Ham', 'Spam', 'Ham', 'Ham', 'Ham']\n"
     ]
    }
   ],
   "source": [
    "test_messages = [\n",
    "    \"Urgent! You have won a free iPhone. Click here to claim now!\",  # Expected: Spam\n",
    "    \"Reminder: Your dentist appointment is tomorrow at 3 PM.\",        # Expected: Ham\n",
    "    \"Congratulations! You've been selected for a free vacation!\",     # Expected: Spam\n",
    "    \"Let's meet at 6 for dinner. Looking forward!\",                   # Expected: Ham\n",
    "    \"Good morning! Hope you have a great day ahead.\",                 # Expected: Ham\n",
    "    \"Hey, I left my notebook at your place. Can you bring it?\",       # Expected: Ham\n",
    "]\n",
    "print(\"\\nTest Predictions:\")\n",
    "print(predict_message(best_model, test_messages))"
   ]
  },
  {
   "cell_type": "code",
   "execution_count": 31,
   "id": "1eaa76cc",
   "metadata": {},
   "outputs": [
    {
     "name": "stdout",
     "output_type": "stream",
     "text": [
      "\n",
      "Test Predictions:\n",
      "['Ham', 'Spam']\n"
     ]
    }
   ],
   "source": [
    "test_messages = [\n",
    "    \"Tell where you reached\",\n",
    "    \"Urgent UR awarded a complimentary trip to EuroDisinc Trav, Aco&Entry41 Or å£1000. To claim txt DIS to 87121 18+6*å£1.50(moreFrmMob. ShrAcomOrSglSuplt)10, LS1 3AJ\",\n",
    "    \n",
    "]\n",
    "print(\"\\nTest Predictions:\")\n",
    "print(predict_message(best_model, test_messages))"
   ]
  },
  {
   "cell_type": "code",
   "execution_count": null,
   "id": "869b96e9",
   "metadata": {},
   "outputs": [],
   "source": []
  }
 ],
 "metadata": {
  "kernelspec": {
   "display_name": "Python 3 (ipykernel)",
   "language": "python",
   "name": "python3"
  },
  "language_info": {
   "codemirror_mode": {
    "name": "ipython",
    "version": 3
   },
   "file_extension": ".py",
   "mimetype": "text/x-python",
   "name": "python",
   "nbconvert_exporter": "python",
   "pygments_lexer": "ipython3",
   "version": "3.10.4"
  }
 },
 "nbformat": 4,
 "nbformat_minor": 5
}
